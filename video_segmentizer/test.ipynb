{
 "cells": [
  {
   "cell_type": "code",
   "execution_count": 1,
   "metadata": {},
   "outputs": [],
   "source": [
    "from data_loader import LASIESTADataLoader\n",
    "from model import IIDGaussian, GMM\n",
    "import matplotlib.pyplot as plt\n",
    "import matplotlib.animation as animation\n",
    "import numpy as np\n",
    "import time"
   ]
  },
  {
   "cell_type": "code",
   "execution_count": null,
   "metadata": {},
   "outputs": [],
   "source": [
    "data_loader = LASIESTADataLoader('/Users/dsoellinger/Downloads/I_SI_01')\n",
    "\n",
    "fig = plt.figure()\n",
    "im = plt.imshow(data_loader.get_next_frame())\n",
    "\n",
    "def update_frame(*argv):\n",
    "    return im.set_data(data_loader.get_next_frame()),\n",
    "\n",
    "ani = animation.FuncAnimation(fig, update_frame, interval=50)\n",
    "\n",
    "from IPython.display import HTML\n",
    "HTML(ani.to_jshtml())"
   ]
  },
  {
   "cell_type": "code",
   "execution_count": 2,
   "metadata": {},
   "outputs": [
    {
     "name": "stdout",
     "output_type": "stream",
     "text": [
      "3.16227766017\n"
     ]
    }
   ],
   "source": [
    "variance = 5\n",
    "mean = [1, 1, 1]\n",
    "\n",
    "gaus = IIDGaussian(mean, variance, dim=3)\n",
    "dist = gaus.mahalanobis_distance_between([1, 2, 2])\n",
    "print(dist)"
   ]
  },
  {
   "cell_type": "code",
   "execution_count": 3,
   "metadata": {},
   "outputs": [
    {
     "name": "stdout",
     "output_type": "stream",
     "text": [
      "0.0056790434435\n"
     ]
    }
   ],
   "source": [
    "density = gaus.pdf([1,1,1])\n",
    "print(density)"
   ]
  },
  {
   "cell_type": "code",
   "execution_count": 4,
   "metadata": {},
   "outputs": [
    {
     "name": "stdout",
     "output_type": "stream",
     "text": [
      "0.00570063178254\n"
     ]
    }
   ],
   "source": [
    "gaus.partial_fit([2,2,2])\n",
    "density = gaus.pdf([1,1,1])\n",
    "print(density)"
   ]
  },
  {
   "cell_type": "code",
   "execution_count": 5,
   "metadata": {},
   "outputs": [
    {
     "name": "stdout",
     "output_type": "stream",
     "text": [
      "Done\n"
     ]
    }
   ],
   "source": [
    "gmm = GMM(3)\n",
    "\n",
    "data_loader = LASIESTADataLoader('/Users/dsoellinger/Downloads/I_SI_01')\n",
    "\n",
    "frame = data_loader.get_next_frame()\n",
    "\n",
    "while frame is not None:\n",
    "    pixel_value = frame[0][0]\n",
    "    gmm.partial_fit(pixel_value)\n",
    "    \n",
    "    frame = data_loader.get_next_frame()\n",
    "    \n",
    "print(\"Done\")"
   ]
  }
 ],
 "metadata": {
  "kernelspec": {
   "display_name": "Python 3",
   "language": "python",
   "name": "python3"
  },
  "language_info": {
   "codemirror_mode": {
    "name": "ipython",
    "version": 3
   },
   "file_extension": ".py",
   "mimetype": "text/x-python",
   "name": "python",
   "nbconvert_exporter": "python",
   "pygments_lexer": "ipython3",
   "version": "3.6.4"
  }
 },
 "nbformat": 4,
 "nbformat_minor": 2
}
